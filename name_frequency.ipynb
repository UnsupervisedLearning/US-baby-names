{
 "cells": [
  {
   "cell_type": "markdown",
   "metadata": {},
   "source": [
    "# Name frequency notebook\n",
    "\n",
    "This notebook shows how to create a simple plot "
   ]
  },
  {
   "cell_type": "markdown",
   "metadata": {},
   "source": [
    "## Get the data\n",
    "\n",
    "You need to first download the US baby names database, which is available from kaggle.com."
   ]
  },
  {
   "cell_type": "code",
   "execution_count": 23,
   "metadata": {
    "collapsed": false
   },
   "outputs": [],
   "source": [
    "#!curl https://www.kaggle.com/kaggle/us-baby-names/downloads/database.sqlite.zip -o database.sqlite.zip # Mac\n",
    "#!wget https://www.kaggle.com/kaggle/us-baby-names/downloads/database.sqlite.zip # Linux/Windows"
   ]
  },
  {
   "cell_type": "markdown",
   "metadata": {},
   "source": [
    "First, let's set up the environment.  "
   ]
  },
  {
   "cell_type": "code",
   "execution_count": 24,
   "metadata": {
    "collapsed": false
   },
   "outputs": [],
   "source": [
    "import os\n",
    "import sys\n",
    "import sqlite3\n",
    "import argparse\n",
    "import pandas as pd\n",
    "import matplotlib.pyplot as plt\n",
    "\n",
    "% matplotlib inline  \n"
   ]
  },
  {
   "cell_type": "markdown",
   "metadata": {},
   "source": [
    "Now make some formatting changes.  "
   ]
  },
  {
   "cell_type": "code",
   "execution_count": 25,
   "metadata": {
    "collapsed": false
   },
   "outputs": [],
   "source": [
    "# Plot style\n",
    "pd.set_option('display.mpl_style', 'default') # Make the graphs a bit prettier\n",
    "plt.rcParams['figure.figsize'] = (15, 5)"
   ]
  },
  {
   "cell_type": "markdown",
   "metadata": {},
   "source": [
    "Read the database.  "
   ]
  },
  {
   "cell_type": "code",
   "execution_count": 26,
   "metadata": {
    "collapsed": true
   },
   "outputs": [],
   "source": [
    "# Read into dataframe from database\n",
    "if not os.path.isfile('database.sqlite'):\n",
    "    print \" database.sqlite not in current directory. exiting...\"\n",
    "    sys.exit(0)\n",
    "\n",
    "con = sqlite3.connect(\"database.sqlite\")\n",
    "df = pd.read_sql(\"SELECT * from NationalNames\",con)"
   ]
  },
  {
   "cell_type": "markdown",
   "metadata": {},
   "source": [
    "Check the contents.  "
   ]
  },
  {
   "cell_type": "code",
   "execution_count": 27,
   "metadata": {
    "collapsed": false
   },
   "outputs": [
    {
     "data": {
      "text/html": [
       "<div>\n",
       "<table border=\"1\" class=\"dataframe\">\n",
       "  <thead>\n",
       "    <tr style=\"text-align: right;\">\n",
       "      <th></th>\n",
       "      <th>Id</th>\n",
       "      <th>Name</th>\n",
       "      <th>Year</th>\n",
       "      <th>Gender</th>\n",
       "      <th>Count</th>\n",
       "    </tr>\n",
       "  </thead>\n",
       "  <tbody>\n",
       "    <tr>\n",
       "      <th>0</th>\n",
       "      <td>1</td>\n",
       "      <td>Mary</td>\n",
       "      <td>1880</td>\n",
       "      <td>F</td>\n",
       "      <td>7065</td>\n",
       "    </tr>\n",
       "    <tr>\n",
       "      <th>1</th>\n",
       "      <td>2</td>\n",
       "      <td>Anna</td>\n",
       "      <td>1880</td>\n",
       "      <td>F</td>\n",
       "      <td>2604</td>\n",
       "    </tr>\n",
       "    <tr>\n",
       "      <th>2</th>\n",
       "      <td>3</td>\n",
       "      <td>Emma</td>\n",
       "      <td>1880</td>\n",
       "      <td>F</td>\n",
       "      <td>2003</td>\n",
       "    </tr>\n",
       "    <tr>\n",
       "      <th>3</th>\n",
       "      <td>4</td>\n",
       "      <td>Elizabeth</td>\n",
       "      <td>1880</td>\n",
       "      <td>F</td>\n",
       "      <td>1939</td>\n",
       "    </tr>\n",
       "    <tr>\n",
       "      <th>4</th>\n",
       "      <td>5</td>\n",
       "      <td>Minnie</td>\n",
       "      <td>1880</td>\n",
       "      <td>F</td>\n",
       "      <td>1746</td>\n",
       "    </tr>\n",
       "  </tbody>\n",
       "</table>\n",
       "</div>"
      ],
      "text/plain": [
       "   Id       Name  Year Gender  Count\n",
       "0   1       Mary  1880      F   7065\n",
       "1   2       Anna  1880      F   2604\n",
       "2   3       Emma  1880      F   2003\n",
       "3   4  Elizabeth  1880      F   1939\n",
       "4   5     Minnie  1880      F   1746"
      ]
     },
     "execution_count": 27,
     "metadata": {},
     "output_type": "execute_result"
    }
   ],
   "source": [
    "df.head()"
   ]
  },
  {
   "cell_type": "markdown",
   "metadata": {},
   "source": [
    "Check the date range.  "
   ]
  },
  {
   "cell_type": "code",
   "execution_count": 28,
   "metadata": {
    "collapsed": false
   },
   "outputs": [
    {
     "data": {
      "text/plain": [
       "0    1880\n",
       "1    1880\n",
       "2    1880\n",
       "3    1880\n",
       "4    1880\n",
       "Name: Year, dtype: int64"
      ]
     },
     "execution_count": 28,
     "metadata": {},
     "output_type": "execute_result"
    }
   ],
   "source": [
    "df['Year'].head()"
   ]
  },
  {
   "cell_type": "code",
   "execution_count": 29,
   "metadata": {
    "collapsed": false
   },
   "outputs": [
    {
     "data": {
      "text/plain": [
       "1825428    2014\n",
       "1825429    2014\n",
       "1825430    2014\n",
       "1825431    2014\n",
       "1825432    2014\n",
       "Name: Year, dtype: int64"
      ]
     },
     "execution_count": 29,
     "metadata": {},
     "output_type": "execute_result"
    }
   ],
   "source": [
    "df['Year'].tail()"
   ]
  },
  {
   "cell_type": "markdown",
   "metadata": {},
   "source": [
    "So the data covers years 1880 to 2014.  "
   ]
  },
  {
   "cell_type": "code",
   "execution_count": 30,
   "metadata": {
    "collapsed": false
   },
   "outputs": [],
   "source": [
    "\n",
    "\n",
    "def isSlopePositive( name, year, df ):\n",
    "    # Consider years 5 before and 5 after the year in question \n",
    "    # Return true if the average of the 5 years after is greater than\n",
    "    # the average of the 5 years before.  \n",
    "    dfShort = df.loc[df[df['Year']>=year-5][df['Year']<=year+5].index.tolist()]\n",
    "    avgBefore = dfShort[:5].Count.mean()\n",
    "    avgAfter  = dfShort[6:].Count.mean()\n",
    "    if avgAfter > avgBefore: \n",
    "        return True\n",
    "    else:\n",
    "        return False  \n",
    "\n",
    "def makeNamePlot( names, gender, year=-1 ):\n",
    "\n",
    "    print \"names =\", names\n",
    "    \n",
    "    df_name = df[ df['Name'].isin(names) ]\n",
    "\n",
    "    if gender==\"B\":\n",
    "        df_name = df_name.groupby('Year', as_index=False).sum()\n",
    "\n",
    "    else:\n",
    "        df_name = df_name[ df_name['Gender']==gender ].groupby(['Year','Name'], as_index=False).sum()\n",
    "\n",
    "        \n",
    "#    if args.normalize:\n",
    "#        print \" normalizing the counts to peak value of 1\"\n",
    "#        for name in names:\n",
    "#            maxVal = max(df_name[ df_name['Name']==name ]['Count'])\n",
    "#            nameReq = df_name['Name']==name\n",
    "#            df_name.loc[ nameReq, 'Count'] = df_name.loc[ nameReq, 'Count'] / maxVal\n",
    "\n",
    "    if len(names) > 1:\n",
    "        fig, ax = plt.subplots()\n",
    "        labels = []\n",
    "        for key, grp in df_name.groupby(['Name']):\n",
    "            ax = grp.plot(ax=ax, kind='line', x='Year', y='Count')\n",
    "            labels.append(key)\n",
    "        lines, _ = ax.get_legend_handles_labels()\n",
    "        ax.legend(lines, labels, loc='best')\n",
    "\n",
    "    else :\n",
    "        line, = plt.plot(df_name['Year'],df_name['Count'])\n",
    "        \n",
    "        if year > 0:\n",
    "            my_count = df_name[ df_name['Year']==year ]['Count'].iloc[0]\n",
    "            point, = plt.plot( [ year ], [ my_count ], 'or')\n",
    "\n",
    "            plt.legend([line, point,], [names[0], year], numpoints=1)\n",
    "        else:\n",
    "            plt.legend([line], [names[0]]) \n",
    "\n",
    "    plt.xlabel('Year')\n",
    "    \n",
    "    plt.savefig( \"name_freq.png\" )\n",
    "    print \"Saved results in file: \"\n",
    "    \n",
    "    for name in names:\n",
    "        if isSlopePositive(name, year, df_name):\n",
    "            print \"The name\", name, \"was trending upward in year\", year  \n",
    "        else:            \n",
    "            print \"The name\", name, \"was trending downward in year\", year  "
   ]
  },
  {
   "cell_type": "code",
   "execution_count": 31,
   "metadata": {
    "collapsed": false
   },
   "outputs": [
    {
     "name": "stdout",
     "output_type": "stream",
     "text": [
      "names = ['Richard']\n",
      "Saved results in file: \n",
      "The name Richard was trending upward in year 1918\n"
     ]
    },
    {
     "name": "stderr",
     "output_type": "stream",
     "text": [
      "/Users/hwwulsin/anaconda/lib/python2.7/site-packages/ipykernel/__main__.py:7: UserWarning: Boolean Series key will be reindexed to match DataFrame index.\n"
     ]
    },
    {
     "data": {
      "image/png": "[encoded data removed]",
      "text/plain": [
       "<matplotlib.figure.Figure at 0x115dc1090>"
      ]
     },
     "metadata": {},
     "output_type": "display_data"
    }
   ],
   "source": [
    "makeNamePlot([\"Richard\"],\"M\",1918)  # Richard Feynman was born in 1918  "
   ]
  },
  {
   "cell_type": "code",
   "execution_count": null,
   "metadata": {
    "collapsed": true
   },
   "outputs": [],
   "source": []
  },
  {
   "cell_type": "code",
   "execution_count": null,
   "metadata": {
    "collapsed": true
   },
   "outputs": [],
   "source": []
  }
 ],
 "metadata": {
  "kernelspec": {
   "display_name": "Python 2",
   "language": "python",
   "name": "python2"
  },
  "language_info": {
   "codemirror_mode": {
    "name": "ipython",
    "version": 2
   },
   "file_extension": ".py",
   "mimetype": "text/x-python",
   "name": "python",
   "nbconvert_exporter": "python",
   "pygments_lexer": "ipython2",
   "version": "2.7.11"
  }
 },
 "nbformat": 4,
 "nbformat_minor": 0
}
